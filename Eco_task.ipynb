{
 "cells": [
  {
   "cell_type": "markdown",
   "metadata": {},
   "source": [
    "# Задание 10.\n",
    "\n",
    "Вам предоставлен набор данных по качеству воздуха в китайских городах в виде csv файлов.\n",
    "Основная метрика, которая показывает качество воздуха - PM25(<a href='https://www.ncbi.nlm.nih.gov/pmc/articles/PMC4740125/'>подробнее о PM25</a>), указана в колонках, которые начинаются на PM_.\n",
    "Остальные столбцы содержат либо данные о времени, в которое были произведены измерения, либо данные о погоде в этот момент. DEWP - точка росы, HUMI - влажность, PRES - давление, TEMP - температура, cbwd - направление ветра, Iws - его скорость, precipation - осадки, Iprec - накопленные осадки.\n",
    "\n",
    "Для выполнения задания необходимо ответить на вопросы по данным, заполнив ячейки ноутбука. Сам ноутбук необходимо выложить в виде отдельного репозитория на github. Ссылку для клонирования репозитория необходимо приложить в решение задания."
   ]
  },
  {
   "cell_type": "markdown",
   "metadata": {},
   "source": [
    "## 1. Загрузите в виде DataFrame набор данных по качеству воздуха Пекина\n",
    "Ссылка на набор данных: https://disk.yandex.ru/d/1UKJoV1ULW1NLQ"
   ]
  },
  {
   "cell_type": "code",
   "execution_count": 227,
   "metadata": {},
   "outputs": [],
   "source": [
    "import numpy as np\n",
    "import pandas as pd"
   ]
  },
  {
   "cell_type": "code",
   "execution_count": 228,
   "metadata": {},
   "outputs": [
    {
     "name": "stdout",
     "output_type": "stream",
     "text": [
      "          No  year  month  day  hour  season  PM_Dongsi  PM_Dongsihuan  \\\n",
      "0          1  2010      1    1     0       4        NaN            NaN   \n",
      "1          2  2010      1    1     1       4        NaN            NaN   \n",
      "2          3  2010      1    1     2       4        NaN            NaN   \n",
      "3          4  2010      1    1     3       4        NaN            NaN   \n",
      "4          5  2010      1    1     4       4        NaN            NaN   \n",
      "...      ...   ...    ...  ...   ...     ...        ...            ...   \n",
      "52579  52580  2015     12   31    19       4      140.0          157.0   \n",
      "52580  52581  2015     12   31    20       4      157.0          199.0   \n",
      "52581  52582  2015     12   31    21       4      171.0          231.0   \n",
      "52582  52583  2015     12   31    22       4      204.0          242.0   \n",
      "52583  52584  2015     12   31    23       4        NaN            NaN   \n",
      "\n",
      "       PM_Nongzhanguan  PM_US Post  DEWP  HUMI    PRES  TEMP cbwd    Iws  \\\n",
      "0                  NaN         NaN -21.0  43.0  1021.0 -11.0   NW   1.79   \n",
      "1                  NaN         NaN -21.0  47.0  1020.0 -12.0   NW   4.92   \n",
      "2                  NaN         NaN -21.0  43.0  1019.0 -11.0   NW   6.71   \n",
      "3                  NaN         NaN -21.0  55.0  1019.0 -14.0   NW   9.84   \n",
      "4                  NaN         NaN -20.0  51.0  1018.0 -12.0   NW  12.97   \n",
      "...                ...         ...   ...   ...     ...   ...  ...    ...   \n",
      "52579            122.0       133.0  -8.0  68.0  1031.0  -3.0   SE   7.14   \n",
      "52580            149.0       169.0  -8.0  63.0  1030.0  -2.0   SE   8.03   \n",
      "52581            196.0       203.0 -10.0  73.0  1030.0  -6.0   NE   0.89   \n",
      "52582            221.0       212.0 -10.0  73.0  1030.0  -6.0   NE   1.78   \n",
      "52583              NaN       235.0  -9.0  79.0  1029.0  -6.0   NE   2.67   \n",
      "\n",
      "       precipitation  Iprec  \n",
      "0                0.0    0.0  \n",
      "1                0.0    0.0  \n",
      "2                0.0    0.0  \n",
      "3                0.0    0.0  \n",
      "4                0.0    0.0  \n",
      "...              ...    ...  \n",
      "52579            0.0    0.0  \n",
      "52580            0.0    0.0  \n",
      "52581            0.0    0.0  \n",
      "52582            0.0    0.0  \n",
      "52583            0.0    0.0  \n",
      "\n",
      "[52584 rows x 18 columns]\n"
     ]
    }
   ],
   "source": [
    "Pekin = pd.read_csv('BeijingPM20100101_20151231.csv', sep=',')\n",
    "print(Pekin)"
   ]
  },
  {
   "cell_type": "markdown",
   "metadata": {},
   "source": [
    "## 2. Сколько всего строк находится в наборе данных?"
   ]
  },
  {
   "cell_type": "code",
   "execution_count": 229,
   "metadata": {
    "pycharm": {
     "name": "#%%\n"
    }
   },
   "outputs": [
    {
     "data": {
      "text/plain": [
       "52584"
      ]
     },
     "execution_count": 229,
     "metadata": {},
     "output_type": "execute_result"
    }
   ],
   "source": [
    "len(Pekin.index)"
   ]
  },
  {
   "cell_type": "code",
   "execution_count": 230,
   "metadata": {},
   "outputs": [
    {
     "data": {
      "text/plain": [
       "52584"
      ]
     },
     "execution_count": 230,
     "metadata": {},
     "output_type": "execute_result"
    }
   ],
   "source": [
    "Pekin.shape[0]"
   ]
  },
  {
   "cell_type": "markdown",
   "metadata": {},
   "source": [
    "## 3. Сколько измерений уровня загрязнения воздуха находится в наборе данных?"
   ]
  },
  {
   "cell_type": "code",
   "execution_count": 231,
   "metadata": {
    "pycharm": {
     "name": "#%%\n"
    }
   },
   "outputs": [
    {
     "data": {
      "text/plain": [
       "PM_Dongsi          25052\n",
       "PM_Dongsihuan      20508\n",
       "PM_Nongzhanguan    24931\n",
       "PM_US Post         50387\n",
       "dtype: int64"
      ]
     },
     "execution_count": 231,
     "metadata": {},
     "output_type": "execute_result"
    }
   ],
   "source": [
    "Pekin[['PM_Dongsi','PM_Dongsihuan','PM_Nongzhanguan','PM_US Post']].count()"
   ]
  },
  {
   "cell_type": "code",
   "execution_count": 232,
   "metadata": {},
   "outputs": [
    {
     "name": "stdout",
     "output_type": "stream",
     "text": [
      "<class 'pandas.core.frame.DataFrame'>\n",
      "RangeIndex: 52584 entries, 0 to 52583\n",
      "Data columns (total 18 columns):\n",
      " #   Column           Non-Null Count  Dtype  \n",
      "---  ------           --------------  -----  \n",
      " 0   No               52584 non-null  int64  \n",
      " 1   year             52584 non-null  int64  \n",
      " 2   month            52584 non-null  int64  \n",
      " 3   day              52584 non-null  int64  \n",
      " 4   hour             52584 non-null  int64  \n",
      " 5   season           52584 non-null  int64  \n",
      " 6   PM_Dongsi        25052 non-null  float64\n",
      " 7   PM_Dongsihuan    20508 non-null  float64\n",
      " 8   PM_Nongzhanguan  24931 non-null  float64\n",
      " 9   PM_US Post       50387 non-null  float64\n",
      " 10  DEWP             52579 non-null  float64\n",
      " 11  HUMI             52245 non-null  float64\n",
      " 12  PRES             52245 non-null  float64\n",
      " 13  TEMP             52579 non-null  float64\n",
      " 14  cbwd             52579 non-null  object \n",
      " 15  Iws              52579 non-null  float64\n",
      " 16  precipitation    52100 non-null  float64\n",
      " 17  Iprec            52100 non-null  float64\n",
      "dtypes: float64(11), int64(6), object(1)\n",
      "memory usage: 7.2+ MB\n"
     ]
    }
   ],
   "source": [
    "Pekin.info()"
   ]
  },
  {
   "cell_type": "markdown",
   "metadata": {},
   "source": [
    "## 4. Введите столбец среднего качества воздуха PM_mean с усреднением показаний со всех станций слежения."
   ]
  },
  {
   "cell_type": "code",
   "execution_count": null,
   "metadata": {
    "pycharm": {
     "name": "#%%\n"
    }
   },
   "outputs": [],
   "source": []
  },
  {
   "cell_type": "markdown",
   "metadata": {},
   "source": [
    "## 5. Какое направление ветра преобладает в Пекине?"
   ]
  },
  {
   "cell_type": "code",
   "execution_count": 233,
   "metadata": {
    "pycharm": {
     "name": "#%%\n"
    }
   },
   "outputs": [
    {
     "name": "stdout",
     "output_type": "stream",
     "text": [
      "SE    18272\n",
      "Name: cbwd, dtype: int64\n"
     ]
    }
   ],
   "source": [
    "Pekin1=Pekin['cbwd'].value_counts()\n",
    "Pekin2 = Pekin1[0:1]\n",
    "print(Pekin2)"
   ]
  },
  {
   "cell_type": "markdown",
   "metadata": {},
   "source": [
    "## 6. В какой день качество воздуха является наихудшим(самая большая концентрация частиц)? Вывести дату в типе данных datetime стандартной библиотеки Python."
   ]
  },
  {
   "cell_type": "code",
   "execution_count": null,
   "metadata": {
    "pycharm": {
     "name": "#%%\n"
    }
   },
   "outputs": [],
   "source": []
  },
  {
   "cell_type": "markdown",
   "metadata": {},
   "source": [
    "## 7. Какой из сезонов в Пекине в среднем наименее неблагоприятный для легких за последние 2 года наблюдений?"
   ]
  },
  {
   "cell_type": "code",
   "execution_count": null,
   "metadata": {
    "pycharm": {
     "name": "#%%\n"
    }
   },
   "outputs": [],
   "source": []
  },
  {
   "cell_type": "markdown",
   "metadata": {},
   "source": [
    "## 8. Коррелирует ли влажность с качеством воздуха?\n",
    "Можно воспользоваться корреляцией Пирсона из numpy, а также встроенными функциями Pandas."
   ]
  },
  {
   "cell_type": "code",
   "execution_count": null,
   "metadata": {
    "pycharm": {
     "name": "#%%\n"
    }
   },
   "outputs": [],
   "source": [
    "Pekin.corr().loc['HUMI','B']"
   ]
  },
  {
   "cell_type": "markdown",
   "metadata": {},
   "source": [
    "## 9. Какой из сезонов в Пекине самый дождливый(в среднем по накоплению осадков)?"
   ]
  },
  {
   "cell_type": "code",
   "execution_count": null,
   "metadata": {
    "pycharm": {
     "name": "#%%\n"
    }
   },
   "outputs": [],
   "source": []
  },
  {
   "cell_type": "markdown",
   "metadata": {},
   "source": [
    "## 10. Становится ли качество воздуха во время дождя лучше, чем оно было сразу перед дождем?"
   ]
  },
  {
   "cell_type": "code",
   "execution_count": null,
   "metadata": {
    "pycharm": {
     "name": "#%%\n"
    }
   },
   "outputs": [],
   "source": []
  }
 ],
 "metadata": {
  "kernelspec": {
   "display_name": "Python 3",
   "language": "python",
   "name": "python3"
  },
  "language_info": {
   "codemirror_mode": {
    "name": "ipython",
    "version": 3
   },
   "file_extension": ".py",
   "mimetype": "text/x-python",
   "name": "python",
   "nbconvert_exporter": "python",
   "pygments_lexer": "ipython3",
   "version": "3.8.5"
  }
 },
 "nbformat": 4,
 "nbformat_minor": 1
}
